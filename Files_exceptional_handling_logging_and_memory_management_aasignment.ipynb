{
  "nbformat": 4,
  "nbformat_minor": 0,
  "metadata": {
    "colab": {
      "provenance": []
    },
    "kernelspec": {
      "name": "python3",
      "display_name": "Python 3"
    },
    "language_info": {
      "name": "python"
    }
  },
  "cells": [
    {
      "cell_type": "markdown",
      "source": [
        "1. Difference Between Interpreted and Compiled Languages\n",
        "- Interpreted: Code is executed line by line (e.g., Python, JavaScript).\n",
        "- Compiled: Code is translated into machine code before execution (e.g., C, C++).\n",
        "- Key Difference: Interpreted languages offer flexibility and ease of debugging, while compiled languages generally provide faster execution.\n",
        "\n",
        "2. What is Exception Handling in Python?\n",
        "- Exception handling is a mechanism to catch and handle errors during program execution without crashing the program. It uses try, except, else, and finally blocks.\n",
        "\n",
        "3. Purpose of the finally Block\n",
        "- The finally block contains code that always executes regardless of whether an exception occurred or not. It's typically used for cleanup actions (e.g., closing files or releasing resources).\n",
        "\n",
        "4. What is Logging in Python?\n",
        "- Logging is a way to track events that happen during the execution of a program. The logging module provides flexible logging levels and allows messages to be recorded to files or console.\n",
        "\n",
        "5. Significance of the __del__ Method\n",
        "- The __del__ method is a destructor method in Python that is called when an object is about to be destroyed, allowing for cleanup before memory is reclaimed.\n",
        "\n",
        "6. Difference Between import and from ... import\n",
        "- import module: Imports the entire module (e.g., import math → use math.sqrt()).\n",
        "- from module import name: Imports specific parts (e.g., from math import sqrt → use sqrt() directly).\n",
        "\n",
        "7. Handling Multiple Exceptions in Python\n",
        "- Use multiple except blocks or a single block with a tuple:\n",
        " - try:\n",
        "    *code\n",
        " - except (ValueError, TypeError) as e:\n",
        "     - print(e)\n",
        "8. Purpose of the with Statement When Handling Files\n",
        "It ensures that resources like files are automatically closed after their suite finishes execution, even if exceptions occur.\n",
        "\n",
        "- with open(\"file.txt\", \"r\") as f:\n",
        "     - data = f.read()\n",
        "9. Difference Between Multithreading and Multiprocessing\n",
        "- Multithreading: Multiple threads run in a single process. Suitable for I/O-bound tasks.\n",
        "- Multiprocessing: Multiple processes run independently. Better for CPU-bound tasks as each has its own memory space.\n",
        "\n",
        "10. Advantages of Using Logging\n",
        "- Helps in debugging and monitoring.\n",
        "- Better than using print statements.\n",
        "- Supports log levels (e.g., DEBUG, INFO).\n",
        "- Can be configured to output to files, streams, etc.\n",
        "\n",
        "11. What is Memory Management in Python?\n",
        "- Python automatically manages memory through:\n",
        "- Reference counting\n",
        "- Garbage collection\n",
        "- Memory pools (via the pymalloc allocator)\n",
        "\n",
        "12. Basic Steps in Exception Handling\n",
        "- Wrap risky code in a try block.\n",
        "- Use except to catch specific or general exceptions.\n",
        "- Optionally use else for code that runs if no exception occurs.\n",
        "- Use finally for cleanup actions.\n",
        "\n",
        "13. Why Memory Management is Important\n",
        "- It prevents memory leaks, improves efficiency, and ensures optimal use of system resources during program execution.\n",
        "\n",
        "14. Role of try and except\n",
        "- try: Contains code that might raise an exception.\n",
        "- except: Contains code to handle exceptions and prevent program crashes.\n",
        "\n",
        "15. How Python's Garbage Collection Works\n",
        "- Python uses reference counting and cyclic garbage collector to reclaim memory occupied by unused objects.\n",
        "\n",
        "16. Purpose of the else Block in Exception Handling\n",
        "- The else block runs only if no exception is raised in the try block. Useful for code that should only run when the try block succeeds.\n",
        "\n",
        "17. Common Logging Levels in Python\n",
        "- DEBUG – Detailed info for diagnosing problems.\n",
        "- INFO – Confirmation that things are working as expected.\n",
        "- WARNING – Something unexpected happened.\n",
        "- ERROR – A serious problem that prevents some functionality.\n",
        "- CRITICAL – A serious error that may prevent the program from continuing.\n",
        "\n",
        "18. Difference Between os.fork() and multiprocessing\n",
        "- os.fork(): Available on Unix-like systems; creates a child process.\n",
        "- multiprocessing: Cross-platform; provides a high-level API to spawn processes and communicate between them.\n",
        "\n",
        "19. Importance of Closing a File in Python\n",
        "- Closing a file:\n",
        "- Releases system resources.\n",
        "- Ensures data is written/saved properly.\n",
        "- Prevents memory leaks or file corruption.\n",
        "- Using with open(...) automatically handles closing the file.\n",
        "\n",
        "20. Difference Between file.read() and file.readline()\n",
        "- read(): Reads entire file content.\n",
        "- readline(): Reads one line at a time.\n",
        "\n",
        "21. Purpose of the Logging Module\n",
        "- Used to track events/errors for debugging, auditing, or production monitoring.\n",
        "\n",
        "22. Purpose of the os Module in File Handling\n",
        "- Used for file operations like:\n",
        "- Path manipulations\n",
        "- File/folder creation or deletion\n",
        "- Checking file existence\n",
        "\n",
        "23. Challenges in Memory Management\n",
        "- Circular references\n",
        "- Memory leaks in long-running applications\n",
        "- Managing large datasets efficiently\n",
        "\n",
        "24. Raise an Exception Manually\n",
        " - python\n",
        " - Copy\n",
        " - Edit\n",
        " - raise ValueError(\"Invalid input\")\n",
        "\n",
        "25. Importance of Multithreading\n",
        "- Useful in I/O-bound applications (e.g., web servers) to perform concurrent tasks and improve responsiveness."
      ],
      "metadata": {
        "id": "g9uREEjO2sMs"
      }
    },
    {
      "cell_type": "markdown",
      "source": [
        "# Practical Questions"
      ],
      "metadata": {
        "id": "Qh9ysrWQ65K-"
      }
    },
    {
      "cell_type": "code",
      "execution_count": null,
      "metadata": {
        "id": "Jft5QrHw2PUS"
      },
      "outputs": [],
      "source": [
        "#1. How can you open a file for writing in Python and write a string to it?\n",
        "\n",
        "files = open(\"files.txt\", \"w\")\n",
        "files.write(\"This is my first line\\n\")\n",
        "files.write(\"This is my second line\\n\")\n",
        "files.write(\"This is my third line\\n\")\n",
        "files.write(\"This is my fourth line\\n\")\n",
        "files.close()"
      ]
    },
    {
      "cell_type": "code",
      "source": [
        "#2. Write a Python program to read the contents of a file and print each line\n",
        "files = open(\"files.txt\", \"r\")\n",
        "for i in files:\n",
        "  print(i)"
      ],
      "metadata": {
        "colab": {
          "base_uri": "https://localhost:8080/"
        },
        "id": "TBAWe2wj8bSa",
        "outputId": "1a50d647-de63-41c3-91ca-eaebe7019909"
      },
      "execution_count": null,
      "outputs": [
        {
          "output_type": "stream",
          "name": "stdout",
          "text": [
            "This is my first line\n",
            "\n",
            "This is my second line\n",
            "\n",
            "This is my third line\n",
            "\n",
            "This is my fourth line\n",
            "\n"
          ]
        }
      ]
    },
    {
      "cell_type": "code",
      "source": [
        "#3. How would you handle a case where the file doesn't exist while trying to open it for reading? FileNotFoundError\n",
        "\n",
        "try:\n",
        "  open(\"file2.txt\" 'r')\n",
        "except FileNotFoundError as e:\n",
        "  print(f\"my file not found {e}\")\n"
      ],
      "metadata": {
        "colab": {
          "base_uri": "https://localhost:8080/"
        },
        "id": "csJshfr58tNf",
        "outputId": "76877b00-938e-4d2e-aa59-a24447ba1334"
      },
      "execution_count": null,
      "outputs": [
        {
          "output_type": "stream",
          "name": "stdout",
          "text": [
            "my file not found [Errno 2] No such file or directory: 'file2.txtr'\n"
          ]
        }
      ]
    },
    {
      "cell_type": "code",
      "source": [
        "#4. Write a Python script that reads from one file and writes its content to another file\n",
        "destination = open(\"destination.txt\", \"w\")\n",
        "source_file = \"files.txt\"\n",
        "destination_file = \"destination.txt\"\n",
        "\n",
        "with open(source_file, \"r\") as src, open(destination_file, \"w\") as dest:\n",
        "\n",
        "    content = src.read()\n",
        "\n",
        "    dest.write(content)\n",
        "\n",
        "print(\"File copied successfully!\")\n"
      ],
      "metadata": {
        "colab": {
          "base_uri": "https://localhost:8080/"
        },
        "id": "GA3lQbAF-M8_",
        "outputId": "c4e242b5-27f5-41fa-c3f0-46631ec75a7d"
      },
      "execution_count": null,
      "outputs": [
        {
          "output_type": "stream",
          "name": "stdout",
          "text": [
            "File copied successfully!\n"
          ]
        }
      ]
    },
    {
      "cell_type": "code",
      "source": [
        "#5. How would you catch and handle division by zero error in Python?\n",
        "\n",
        "try:\n",
        "  100/0\n",
        "except ZeroDivisionError as e:\n",
        "  print(\"not divide by zero\", e)"
      ],
      "metadata": {
        "colab": {
          "base_uri": "https://localhost:8080/"
        },
        "id": "AmEKYcaL_VOD",
        "outputId": "bb38c3ef-af8c-4d42-a95e-4b50e90525ea"
      },
      "execution_count": null,
      "outputs": [
        {
          "output_type": "stream",
          "name": "stdout",
          "text": [
            "not divide by zero division by zero\n"
          ]
        }
      ]
    },
    {
      "cell_type": "code",
      "source": [
        "#6. Write a Python program that logs an error message to a log file when a division by zero exception occurs\n",
        "\n",
        "import logging\n",
        "\n",
        "logging.basicConfig(filename= \"program.txt\", level= logging.DEBUG)\n",
        "try:\n",
        "  100/0\n",
        "except ZeroDivisionError as e:\n",
        "  print(f\"handling zero division error {e}\")\n"
      ],
      "metadata": {
        "colab": {
          "base_uri": "https://localhost:8080/"
        },
        "id": "BMHApCl8ASg5",
        "outputId": "461d7333-b05c-4af6-bfe9-691e2457d65e"
      },
      "execution_count": null,
      "outputs": [
        {
          "output_type": "stream",
          "name": "stdout",
          "text": [
            "handling zero division error division by zero\n"
          ]
        }
      ]
    },
    {
      "cell_type": "code",
      "source": [
        "#7.How do you log information at different levels (INFO, ERROR, WARNING) in Python using the logging module?\n",
        "\n",
        "import logging\n",
        "logging.basicConfig(filename= \"qwerty.txt\", level = logging.DEBUG)\n",
        "logging.info(\"this is my info msg\")\n",
        "logging.error(\"this is my error msg\")\n",
        "logging.warning(\"this is my warning msg\")\n",
        "logging.shutdown()\n"
      ],
      "metadata": {
        "colab": {
          "base_uri": "https://localhost:8080/"
        },
        "id": "OH9rLhCZB5J2",
        "outputId": "384896c2-27dd-4a36-c52a-8e078de74c8c"
      },
      "execution_count": null,
      "outputs": [
        {
          "output_type": "stream",
          "name": "stderr",
          "text": [
            "ERROR:root:this is my error msg\n",
            "WARNING:root:this is my warning msg\n"
          ]
        }
      ]
    },
    {
      "cell_type": "code",
      "source": [
        "#8. Write a program to handle a file opening error using exception handling?\n",
        "\n",
        "try:\n",
        "  f = open(\"example.txt\", \"r\")\n",
        "  f.read()\n",
        "except FileNotFoundError as e:\n",
        "  print(\"my file not found\", e)"
      ],
      "metadata": {
        "colab": {
          "base_uri": "https://localhost:8080/"
        },
        "id": "BQZYdcQyDX-H",
        "outputId": "c038b91b-50c0-4843-fa2b-a747bcd4f444"
      },
      "execution_count": null,
      "outputs": [
        {
          "output_type": "stream",
          "name": "stdout",
          "text": [
            "my file not found [Errno 2] No such file or directory: 'example.txt'\n"
          ]
        }
      ]
    },
    {
      "cell_type": "code",
      "source": [
        "#9. How can you read a file line by line and store its content in a list in Python?\n",
        "\n",
        "files = open(\"files.txt\", \"w\")\n",
        "with open(\"files.txt\", \"r\") as files:\n",
        "    lines = files.readlines()\n",
        "print(lines)\n"
      ],
      "metadata": {
        "colab": {
          "base_uri": "https://localhost:8080/"
        },
        "id": "Zxs9Za-YSenL",
        "outputId": "5c049bfb-3138-4889-c642-5788a8c45659"
      },
      "execution_count": null,
      "outputs": [
        {
          "output_type": "stream",
          "name": "stdout",
          "text": [
            "[]\n"
          ]
        }
      ]
    },
    {
      "cell_type": "code",
      "source": [
        "#10. How can you append data to an existing file in Python?\n",
        "\n",
        "files = open(\"files.txt\", \"a\")\n",
        "files.write(\"this is my fifth line\")\n",
        "files.close()\n"
      ],
      "metadata": {
        "id": "njQO6RnWVIpd"
      },
      "execution_count": null,
      "outputs": []
    },
    {
      "cell_type": "code",
      "source": [
        "#11. Write a Python program that uses a try-except block to handle an error when attempting to access a dictionary key that doesn't exist\n",
        "\n",
        "my_dict = {\"name\": \"anand\", \"age\":23}\n",
        "try:\n",
        "  print(\"city:\", my_dict[\"city\"])\n",
        "except KeyError as e:\n",
        "  print(\"the key does not present in the dictionary:\", e)"
      ],
      "metadata": {
        "colab": {
          "base_uri": "https://localhost:8080/"
        },
        "id": "L0ZrY5xMXlxs",
        "outputId": "1403ebdf-6fa8-4f75-c88f-2e31136b8ab0"
      },
      "execution_count": null,
      "outputs": [
        {
          "output_type": "stream",
          "name": "stdout",
          "text": [
            "the key does not present in the dictionary: 'city'\n"
          ]
        }
      ]
    },
    {
      "cell_type": "code",
      "source": [
        "#12.  Write a program that demonstrates using multiple except blocks to handle different types of exceptions.\n",
        "\n",
        "try:\n",
        "  100/\"4\"\n",
        "except (ZeroDivisionError, TypeError) as e:\n",
        "  print(\"division is not possible due to error >>\", e)"
      ],
      "metadata": {
        "colab": {
          "base_uri": "https://localhost:8080/"
        },
        "id": "8FwNVodqaO7-",
        "outputId": "33496754-f3c7-441b-9876-cef180399ba0"
      },
      "execution_count": null,
      "outputs": [
        {
          "output_type": "stream",
          "name": "stdout",
          "text": [
            "division is not possible due to error >> unsupported operand type(s) for /: 'int' and 'str'\n"
          ]
        }
      ]
    },
    {
      "cell_type": "code",
      "source": [
        "#13. How would you check if a file exists before attempting to read it in Python?\n",
        "import os\n",
        "\n",
        "file_path = \"example.txt\"\n",
        "\n",
        "if os.path.exists(file_path):\n",
        "    with open(file_path, \"r\") as file:\n",
        "        content = file.read()\n",
        "        print(content)\n",
        "else:\n",
        "    print(\"File does not exist.\")\n"
      ],
      "metadata": {
        "colab": {
          "base_uri": "https://localhost:8080/"
        },
        "id": "iWn-PcM9bI3q",
        "outputId": "b99747bb-f1b6-45ac-8337-330fd4a3fe30"
      },
      "execution_count": null,
      "outputs": [
        {
          "output_type": "stream",
          "name": "stdout",
          "text": [
            "File does not exist.\n"
          ]
        }
      ]
    },
    {
      "cell_type": "code",
      "source": [
        "#14. Write a program that uses the logging module to log both informational and error messages?\n",
        "import logging\n",
        "logging.basicConfig(filename='app.log', level=logging.DEBUG, format='%(asctime)s - %(levelname)s - %(message)s')\n",
        "\n",
        "logging.info(\"Program started.\")\n",
        "\n",
        "try:\n",
        "    x = int(input(\"Enter a number: \"))\n",
        "    result = 100 / x\n",
        "    logging.info(f\"Division successful. Result = {result}\")\n",
        "except ZeroDivisionError:\n",
        "    logging.error(\"Attempted division by zero.\")\n",
        "except ValueError:\n",
        "    logging.error(\"Invalid input. Please enter a number.\")\n",
        "except Exception as e:\n",
        "    logging.error(f\"An unexpected error occurred: {e}\")\n",
        "\n",
        "logging.info(\"Program finished.\")\n"
      ],
      "metadata": {
        "id": "80abkNOBb3tN"
      },
      "execution_count": null,
      "outputs": []
    },
    {
      "cell_type": "code",
      "source": [
        "#15. Write a Python program that prints the content of a file and handles the case when the file is empty\n",
        "\n",
        "def read_file(filename):\n",
        "  try:\n",
        "    with open(\"filename\", \"r\") as file:\n",
        "      content = file.read()\n",
        "      if content.strip():\n",
        "        print(\"File content:\\n\")\n",
        "      else:\n",
        "        print(\"file is empty\")\n",
        "  except FileNotFoundError:\n",
        "     print(f\"Error: The file '{filename}' does not exist.\")\n",
        "  except Exception as e:\n",
        "    print(f\"An unexpected error occurred: {e}\")"
      ],
      "metadata": {
        "id": "EKUJ_VOjdE4S"
      },
      "execution_count": null,
      "outputs": []
    },
    {
      "cell_type": "code",
      "source": [
        "filename = \"example.txt\"\n",
        "read_file(filename)"
      ],
      "metadata": {
        "id": "_a1hioDnkIHt"
      },
      "execution_count": null,
      "outputs": []
    },
    {
      "cell_type": "code",
      "source": [],
      "metadata": {
        "id": "XdIXbupNkS39"
      },
      "execution_count": null,
      "outputs": []
    }
  ]
}